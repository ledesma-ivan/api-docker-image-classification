{
 "cells": [
  {
   "cell_type": "markdown",
   "metadata": {},
   "source": [
    "### Computer caracateristics:\n",
    "    OS: Ubuntu 20.04.4 LTS\n",
    "    CPU: Intel Core I5-8250U 1.60ghz\n",
    "    Memory ram: 12 gb"
   ]
  },
  {
   "cell_type": "markdown",
   "metadata": {},
   "source": [
    "First round\n",
    "Number of users: 100\n",
    "Spawn Rate: 3\n",
    "Time: 5 minutes\n",
    "Weight: index(1) ; predict(3)\n",
    "Not Scaled \n",
    "Results: --Get: Requests: 157 Fails: 0 rps : 0.2\n",
    "        -- Post: Requests: 446\tFails: 74 rps : 0.3\n"
   ]
  },
  {
   "cell_type": "markdown",
   "metadata": {},
   "source": [
    "Second Round:\n",
    "\n",
    "Number of users: 150\n",
    "Spawn Rate: 6   \n",
    "Time: 5 minutes\n",
    "Weight: index(1) ; predict(3)\n",
    "Not Scaled \n",
    "Results: --Get: Requests: 193 Fails: 0 rps : 0.1\n",
    "         -- Post: Requests: 559 Fails: 72 rps : 0.2"
   ]
  },
  {
   "cell_type": "markdown",
   "metadata": {},
   "source": [
    "##Scaled"
   ]
  },
  {
   "cell_type": "markdown",
   "metadata": {},
   "source": [
    "First round\n",
    "Number of users: 100\n",
    "Spawn Rate: 3\n",
    "Time: 5 minutes\n",
    "Weight: index(1) ; predict(3)\n",
    "Results: --Get: Requests:203 Fails:0 rps:0.3\n",
    "         -- Post:Requests:591 Fails:71 rps:0.4\n"
   ]
  },
  {
   "cell_type": "markdown",
   "metadata": {},
   "source": [
    "Second round\n",
    "Number of users: 150\n",
    "Spawn Rate: 6\n",
    "Time: 5 minutes\n",
    "Weight: index(1) ; predict(3)\n",
    "Results: --Get: Requests:191 Fails:0 rps:0\n",
    "         -- Post:Requests:680 Fails:68 rps:0.4\n"
   ]
  },
  {
   "cell_type": "markdown",
   "metadata": {},
   "source": [
    "Conclusion:\n",
    "We can see that with scale model our performance improves without having so many failures, which does have an increase in the cost of processing"
   ]
  }
 ],
 "metadata": {
  "language_info": {
   "name": "python"
  },
  "orig_nbformat": 4
 },
 "nbformat": 4,
 "nbformat_minor": 2
}
